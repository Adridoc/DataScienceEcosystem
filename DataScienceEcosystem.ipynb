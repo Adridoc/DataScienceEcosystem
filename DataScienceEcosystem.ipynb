{
 "cells": [
  {
   "cell_type": "markdown",
   "id": "5e9f306c-ecfd-4267-9113-62ef699b58c9",
   "metadata": {},
   "source": [
    "# Data Science Tools and EcosystemData Science Tools and Ecosystem"
   ]
  },
  {
   "cell_type": "markdown",
   "id": "e066daa3-76d6-43e8-9ee9-5ac0a7422610",
   "metadata": {},
   "source": [
    "In this notebook, Data Science Tools and Ecosystem are summarized.\n"
   ]
  },
  {
   "cell_type": "markdown",
   "id": "c2d149f3-0442-4969-a2c0-5ad788537586",
   "metadata": {},
   "source": [
    "## **Objectives**:\n",
    "*Name some of the popular languages that Data Scientists use\n",
    "*List some of the commonly used libraries used by Data Scientists\n",
    "*Introduce some  arithmetic expression examples and some expamples of basic code\n",
    "*Create a table with table of Data Science tools.\n"
   ]
  },
  {
   "cell_type": "markdown",
   "id": "c224e73f-7ae8-4168-88ec-1912c86036ff",
   "metadata": {},
   "source": [
    "## Some of the popular languages that Data Scientists use are:\n",
    "1-Python\n",
    "2-R\n",
    "3-Sql"
   ]
  },
  {
   "cell_type": "markdown",
   "id": "e6da7a8d-7f51-42a0-b95b-2e184bcaa180",
   "metadata": {},
   "source": [
    "## Some of the commonly used libraries used by Data Scientists include:\n",
    "1-NumPy\n",
    "2-MaplotLib\n",
    "3-Pandas"
   ]
  },
  {
   "cell_type": "markdown",
   "id": "2b8cab5e-89ee-45a4-9979-dedbd40b6c77",
   "metadata": {},
   "source": [
    "| Data Science Tools |\n",
    "|--------|\n",
    "| Jupyter Notebook |\n",
    "| RStudio |\n",
    "| Visual Studio Code (VS Code)|\n"
   ]
  },
  {
   "cell_type": "markdown",
   "id": "76f2f7c2-1545-405c-b370-39982d10d513",
   "metadata": {},
   "source": [
    "### Below are a few examples of evaluating arithmetic expressions in Python\n"
   ]
  },
  {
   "cell_type": "markdown",
   "id": "74ced90c-e793-412b-9ca9-9f8dc3fd2f9e",
   "metadata": {},
   "source": [
    "### This a simple arithmetic expression to mutiply then add integers\n",
    "(3*4)+5\n"
   ]
  },
  {
   "cell_type": "code",
   "execution_count": 17,
   "id": "7ec7f94d-d79e-47e4-bc3b-eefecc54047c",
   "metadata": {},
   "outputs": [
    {
     "name": "stdout",
     "output_type": "stream",
     "text": [
      "3.3333333333333335\n"
     ]
    }
   ],
   "source": [
    "## This will convert 200 minutes to hours by diving by 60.\n",
    "minutes = 200\n",
    "hours = minutes / 60\n",
    "print(hours)\n"
   ]
  },
  {
   "cell_type": "markdown",
   "id": "cbc0ae87-f0f9-45cf-9030-4b4e9d202a63",
   "metadata": {},
   "source": [
    "## Author\n",
    "\n",
    "Adrian Nuñez"
   ]
  },
  {
   "cell_type": "code",
   "execution_count": null,
   "id": "c7e05a98-1285-4c27-bf03-64e44ac7d558",
   "metadata": {},
   "outputs": [],
   "source": []
  }
 ],
 "metadata": {
  "kernelspec": {
   "display_name": "Python 3 (ipykernel)",
   "language": "python",
   "name": "python3"
  },
  "language_info": {
   "codemirror_mode": {
    "name": "ipython",
    "version": 3
   },
   "file_extension": ".py",
   "mimetype": "text/x-python",
   "name": "python",
   "nbconvert_exporter": "python",
   "pygments_lexer": "ipython3",
   "version": "3.9.13"
  }
 },
 "nbformat": 4,
 "nbformat_minor": 5
}
